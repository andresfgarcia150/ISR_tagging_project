{
 "metadata": {
  "name": ""
 },
 "nbformat": 3,
 "nbformat_minor": 0,
 "worksheets": [
  {
   "cells": [
    {
     "cell_type": "heading",
     "level": 1,
     "metadata": {},
     "source": [
      "Plots of the overall results of the tagging algorithm"
     ]
    },
    {
     "cell_type": "raw",
     "metadata": {},
     "source": [
      "This code is used to plot the results of the tagging algorithm.\n",
      "\n",
      "Inputs: A set of .txt files with the percentages of tags, misstags and rejected events as a function of the probability cut k\n",
      "Outputs: A set of .jpg files with those percentages\n",
      "\n",
      "Andr\u00e9s Felipe Garc\u00eda Albarrac\u00edn (af.garcia1214@uniandes.edu.co)"
     ]
    },
    {
     "cell_type": "code",
     "collapsed": false,
     "input": [
      "%pylab inline\n",
      "plt.ioff() # Does not show the pictures automatically\n",
      "# Obs: Write show() if you want to plot on the screen all the figures that have not been closed (using close(figure))\n",
      "\n",
      "Tops_o_sTops = 's' #  '_' for Tops and 's' for sTops\n",
      "ISR_or_not = 'WI' # 'WI' With ISR, 'SI' without ISR, 'bb' for btags\n",
      "matching = '_Matching' # '_Matching' if a matching procedure has been done, '' otherwise\n",
      "combination = [0,1,5] # combination is an array with the variables of the used combination\n",
      "\n",
      "analysis = 'sTops\\ With\\ ISR$'\n",
      "\n",
      "if (Tops_o_sTops == '_'):\n",
      "    analysis = '\\ '\n",
      "else:\n",
      "    analysis = 's'\n",
      "    \n",
      "if (ISR_or_not == 'WI'):\n",
      "    analysis = analysis + 'Tops\\ with\\ ISR$'\n",
      "elif (ISR_or_not == 'SI'):\n",
      "    analysis = analysis + 'Tops\\ without\\ ISR$'\n",
      "elif (ISR_or_not == 'bb'):\n",
      "    analysis = analysis + 'Tops\\ with\\ b\\ jets\\ and\\ ISR\\ jet$'\n",
      "\n",
      "local_folder = Tops_o_sTops + 'Tops_result_' + ISR_or_not + matching + '/'\n",
      "\n",
      "# The name of the studied variables\n",
      "variables = []\n",
      "variables.append('$PT$')\n",
      "variables.append('$|\\eta|$')\n",
      "variables.append('$\\Delta \\Phi_{MET-Jet}$')\n",
      "variables.append('$PT_{ratio}$')\n",
      "variables.append('$\\Delta \\eta_{aver}$')\n",
      "variables.append('$\\Delta \\Phi_{MET-Jet-Others}$')\n",
      "variables.append('$\\Delta PT_{leading}$')\n",
      "variables.append('$\\Delta \\eta_{leading}$')\n"
     ],
     "language": "python",
     "metadata": {},
     "outputs": [
      {
       "output_type": "stream",
       "stream": "stdout",
       "text": [
        "Populating the interactive namespace from numpy and matplotlib\n"
       ]
      }
     ],
     "prompt_number": 2
    },
    {
     "cell_type": "heading",
     "level": 3,
     "metadata": {},
     "source": [
      "Reading the input files"
     ]
    },
    {
     "cell_type": "code",
     "collapsed": false,
     "input": [
      "# Creating the arrays k_values, tags, missTags, rejected\n",
      "k_values = []\n",
      "tags = []\n",
      "missTags = []\n",
      "\n",
      "# Reading the tagging results\n",
      "for i in range(1,5): # There are 5 done pt cuts: 50, 100, 150, 200 and 250\n",
      "    pt_cut = i*50\n",
      "    pt_uni = fmod(pt_cut,10)\n",
      "    pt_dec = fmod(pt_cut-pt_uni,100)/10\n",
      "    pt_cen = fmod(pt_cut-pt_uni-pt_dec*10,1000)/100\n",
      "\n",
      "    comb = '_' + str(combination[0]) + '_' + str(combination[1]) + '_' + str(combination[2])\n",
      "    file_Name = '../../Results/resultsTagging/' + local_folder + Tops_o_sTops + 'Tops_' + ISR_or_not + '_hpt-' + str(pt_cen) + str(pt_dec) + str(pt_uni) + comb  + '.txt'\n",
      "\n",
      "    fl = open(file_Name)\n",
      "    \n",
      "    # Reading comments\n",
      "    fl.readline()\n",
      "    fl.readline()\n",
      "    fl.readline()\n",
      "    \n",
      "    tempTags = []\n",
      "    tempMiss = []\n",
      "    \n",
      "    for line in fl:\n",
      "        l = line.split('\t')\n",
      "        tempTags.append(float(l[1]))\n",
      "        tempMiss.append(float(l[2]))\n",
      "        if ((i == 1)):\n",
      "            k_values.append(float(l[0]))\n",
      "        \n",
      "    tags.append(tempTags)\n",
      "    missTags.append(tempMiss)\n",
      "\n",
      "tags = array(tags)\n",
      "missTags = array(missTags)\n",
      "print (k_values)\n",
      "print (tags[0])\n"
     ],
     "language": "python",
     "metadata": {},
     "outputs": [
      {
       "output_type": "stream",
       "stream": "stdout",
       "text": [
        "[1.2, 1.218, 1.236, 1.254, 1.272, 1.29, 1.308, 1.326, 1.344, 1.362, 1.38, 1.398, 1.416, 1.434, 1.452, 1.47, 1.488, 1.506, 1.524, 1.542, 1.56, 1.578, 1.596, 1.614, 1.632, 1.65, 1.668, 1.686, 1.704, 1.722, 1.74, 1.758, 1.776, 1.794, 1.812, 1.83, 1.848, 1.866, 1.884, 1.902, 1.92, 1.938, 1.956, 1.974, 1.992, 2.01, 2.028, 2.046, 2.064, 2.082, 2.1, 2.118, 2.136, 2.154, 2.172, 2.19, 2.208, 2.226, 2.244, 2.262, 2.28, 2.298, 2.316, 2.334, 2.352, 2.37, 2.388, 2.406, 2.424, 2.442, 2.46, 2.478, 2.496, 2.514, 2.532, 2.55, 2.568, 2.586, 2.604, 2.622, 2.64, 2.658, 2.676, 2.694, 2.712, 2.73, 2.748, 2.766, 2.784, 2.802, 2.82, 2.838, 2.856, 2.874, 2.892, 2.91, 2.928, 2.946, 2.964, 2.982]\n",
        "[ 0.904016  0.907015  0.910331  0.913198  0.914958  0.916263  0.918076\n",
        "  0.919078  0.921981  0.922426  0.92479   0.926753  0.928897  0.929904\n",
        "  0.9308    0.934809  0.936615  0.939267  0.9424    0.944434  0.947791\n",
        "  0.950082  0.954011  0.957002  0.958524  0.960478  0.963742  0.965585\n",
        "  0.96767   0.968445  0.969607  0.971343  0.973637  0.974409  0.975382\n",
        "  0.976026  0.976843  0.978351  0.9785    0.978776  0.979617  0.980269\n",
        "  0.980784  0.981237  0.981763  0.982059  0.982278  0.982863  0.983794\n",
        "  0.983874  0.983967  0.984326  0.984703  0.985089  0.985264  0.985715\n",
        "  0.986203  0.986433  0.98677   0.98687   0.987088  0.987303  0.987894\n",
        "  0.988034  0.988276  0.988906  0.989212  0.989524  0.989611  0.989924\n",
        "  0.989975  0.990226  0.9904    0.990615  0.9909    0.991321  0.991402\n",
        "  0.991636  0.99181   0.991947  0.992307  0.992721  0.992949  0.993182\n",
        "  0.99319   0.993237  0.993339  0.993623  0.993697  0.993785  0.99403\n",
        "  0.994146  0.994264  0.994429  0.994615  0.994759  0.994832  0.994879\n",
        "  0.99501   0.995222]\n"
       ]
      }
     ],
     "prompt_number": 3
    },
    {
     "cell_type": "heading",
     "level": 3,
     "metadata": {},
     "source": [
      "Plotting the tagging results"
     ]
    },
    {
     "cell_type": "code",
     "collapsed": false,
     "input": [
      "itera = 0\n",
      "for i in range(1,5): # There are 5 done pt cuts: 50, 100, 150, 200 and 250\n",
      "    pt_cut = i*50\n",
      "    pt_uni = fmod(pt_cut,10)\n",
      "    pt_dec = fmod(pt_cut-pt_uni,100)/10\n",
      "    pt_cen = fmod(pt_cut-pt_uni-pt_dec*10,1000)/100\n",
      "\n",
      "    comb = '_' + str(combination[0]) + '_' + str(combination[1]) + '_' + str(combination[2])\n",
      "\n",
      "    hold\n",
      "    fig_comp = figure(figsize=(6,5))\n",
      "    if ((ISR_or_not == 'WI') or (ISR_or_not == 'bb')):\n",
      "        plot(k_values,tags[itera,:])\n",
      "    plot(k_values,missTags[itera,:],'r')\n",
      "    axis([1.0,3.0,0,1])\n",
      "    xlabel('$k\\ (P_{cut}=k/N_j)$',fontsize=16)\n",
      "    ylabel('$[\\%]$',fontsize=16)\n",
      "    string = '$Sample\\ with\\ pt\\ >\\ ' + str(pt_cut) + '\\ GeV\\ -\\ Case:\\ ' + analysis + '\\n$Variables:\\ $' + variables[combination[0]] + ' - ' + variables[combination[1]] + ' - ' + variables[combination[2]]\n",
      "    title(string,fontsize=16);\n",
      "    legend([\"Tags\", \"MissTags\"],loc=7)\n",
      "    nameFig = '../../Results/plots_tagging_variables_comparison/' + local_folder + 'Percentages' + Tops_o_sTops + 'Tops_' + ISR_or_not + '_hpt-' + str(pt_cen) + str(pt_dec) + str(pt_uni) + comb + '.jpg'\n",
      "    savefig(nameFig,dpi=200)\n",
      "    itera += 1\n",
      "    \n",
      "    if (itera == 1):\n",
      "        show()\n",
      "    \n",
      "    close(fig_comp)"
     ],
     "language": "python",
     "metadata": {},
     "outputs": [
      {
       "metadata": {},
       "output_type": "display_data",
       "png": "[encoded data removed]",
       "text": [
        "<matplotlib.figure.Figure at 0x7fce2fdb3550>"
       ]
      }
     ],
     "prompt_number": 16
    },
    {
     "cell_type": "code",
     "collapsed": false,
     "input": [],
     "language": "python",
     "metadata": {},
     "outputs": []
    }
   ],
   "metadata": {}
  }
 ]
}