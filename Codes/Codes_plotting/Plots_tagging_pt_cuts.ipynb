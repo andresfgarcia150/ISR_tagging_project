{
 "metadata": {
  "name": ""
 },
 "nbformat": 3,
 "nbformat_minor": 0,
 "worksheets": [
  {
   "cells": [
    {
     "cell_type": "heading",
     "level": 1,
     "metadata": {},
     "source": [
      "Plots of the overall results of the tagging algorithm"
     ]
    },
    {
     "cell_type": "raw",
     "metadata": {},
     "source": [
      "This code is used to plot the results of the tagging algorithm.\n",
      "\n",
      "Inputs: A set of .txt files with the percentages of tags, misstags and rejected events as a function of the probability cut k\n",
      "Outputs: A set of .jpg files with those percentages\n",
      "\n",
      "Andr\u00e9s Felipe Garc\u00eda Albarrac\u00edn (af.garcia1214@uniandes.edu.co)"
     ]
    },
    {
     "cell_type": "code",
     "collapsed": false,
     "input": [
      "%pylab inline\n",
      "plt.ioff() # Does not show the pictures automatically\n",
      "# Obs: Write show() if you want to plot on the screen all the figures that have not been closed (using close(figure))\n",
      "\n",
      "Tops_o_sTops = '_' #  '_' for Tops and 's' for sTops\n",
      "ISR_or_not = 'WI' # 'WI' With ISR, 'SI' without ISR, 'bb' for btags\n",
      "matching = '_Matching' # '_Matching' if a matching procedure has been done, '' otherwise\n",
      "combination = [0,1,3] # combination is an array with the variables of the used combination\n",
      "\n",
      "analysis = 'sTops\\ With\\ ISR$'\n",
      "\n",
      "if (Tops_o_sTops == '_'):\n",
      "    analysis = '\\ '\n",
      "else:\n",
      "    analysis = 's'\n",
      "    \n",
      "if (ISR_or_not == 'WI'):\n",
      "    analysis = analysis + 'Tops\\ with\\ ISR$'\n",
      "elif (ISR_or_not == 'SI'):\n",
      "    analysis = analysis + 'Tops\\ without\\ ISR$'\n",
      "elif (ISR_or_not == 'bb'):\n",
      "    analysis = analysis + 'Tops\\ with\\ b\\ jets\\ and\\ ISR\\ jet$'\n",
      "\n",
      "local_folder = Tops_o_sTops + 'Tops_result_' + ISR_or_not + matching + '/'\n",
      "\n",
      "# The name of the studied variables\n",
      "variables = []\n",
      "variables.append('$PT$')\n",
      "variables.append('$|\\eta|$')\n",
      "variables.append('$\\Delta \\Phi_{MET-Jet}$')\n",
      "variables.append('$PT_{ratio}$')\n",
      "variables.append('$\\Delta \\eta_{aver}$')\n",
      "variables.append('$\\Delta \\Phi_{MET-Jet-Others}$')\n",
      "variables.append('$\\Delta PT_{leading}$')\n",
      "variables.append('$\\Delta \\eta_{leading}$')\n"
     ],
     "language": "python",
     "metadata": {},
     "outputs": [
      {
       "output_type": "stream",
       "stream": "stdout",
       "text": [
        "Populating the interactive namespace from numpy and matplotlib\n"
       ]
      }
     ],
     "prompt_number": 16
    },
    {
     "cell_type": "heading",
     "level": 3,
     "metadata": {},
     "source": [
      "Reading the input files"
     ]
    },
    {
     "cell_type": "code",
     "collapsed": false,
     "input": [
      "# Creating the arrays k_values, tags, missTags, rejected\n",
      "k_values = []\n",
      "tags = []\n",
      "missTags = []\n",
      "\n",
      "# Reading the tagging results\n",
      "for i in range(1,6): # There are 5 done pt cuts: 50, 100, 150, 200 and 250\n",
      "    pt_cut = i*50\n",
      "    pt_uni = fmod(pt_cut,10)\n",
      "    pt_dec = fmod(pt_cut-pt_uni,100)/10\n",
      "    pt_cen = fmod(pt_cut-pt_uni-pt_dec*10,1000)/100\n",
      "\n",
      "    comb = '_' + str(combination[0]) + '_' + str(combination[1]) + '_' + str(combination[2])\n",
      "    file_Name = '../../Results/resultsTagging/' + local_folder + Tops_o_sTops + 'Tops_' + ISR_or_not + '_hpt-' + str(pt_cen) + str(pt_dec) + str(pt_uni) + comb  + '.txt'\n",
      "\n",
      "    fl = open(file_Name)\n",
      "    \n",
      "    # Reading comments\n",
      "    fl.readline()\n",
      "    fl.readline()\n",
      "    fl.readline()\n",
      "    \n",
      "    tempTags = []\n",
      "    tempMiss = []\n",
      "    \n",
      "    for line in fl:\n",
      "        l = line.split('\t')\n",
      "        tempTags.append(float(l[1]))\n",
      "        tempMiss.append(float(l[2]))\n",
      "        if ((i == 1)):\n",
      "            k_values.append(float(l[0]))\n",
      "        \n",
      "    tags.append(tempTags)\n",
      "    missTags.append(tempMiss)\n",
      "\n",
      "tags = array(tags)\n",
      "missTags = array(missTags)\n",
      "print (k_values)\n",
      "print (tags[0])\n"
     ],
     "language": "python",
     "metadata": {},
     "outputs": [
      {
       "output_type": "stream",
       "stream": "stdout",
       "text": [
        "[1.2, 1.218, 1.236, 1.254, 1.272, 1.29, 1.308, 1.326, 1.344, 1.362, 1.38, 1.398, 1.416, 1.434, 1.452, 1.47, 1.488, 1.506, 1.524, 1.542, 1.56, 1.578, 1.596, 1.614, 1.632, 1.65, 1.668, 1.686, 1.704, 1.722, 1.74, 1.758, 1.776, 1.794, 1.812, 1.83, 1.848, 1.866, 1.884, 1.902, 1.92, 1.938, 1.956, 1.974, 1.992, 2.01, 2.028, 2.046, 2.064, 2.082, 2.1, 2.118, 2.136, 2.154, 2.172, 2.19, 2.208, 2.226, 2.244, 2.262, 2.28, 2.298, 2.316, 2.334, 2.352, 2.37, 2.388, 2.406, 2.424, 2.442, 2.46, 2.478, 2.496, 2.514, 2.532, 2.55, 2.568, 2.586, 2.604, 2.622, 2.64, 2.658, 2.676, 2.694, 2.712, 2.73, 2.748, 2.766, 2.784, 2.802, 2.82, 2.838, 2.856, 2.874, 2.892, 2.91, 2.928, 2.946, 2.964, 2.982]\n",
        "[ 0.544514  0.553707  0.557034  0.559828  0.561773  0.56383   0.566208\n",
        "  0.572947  0.575228  0.580106  0.582848  0.586211  0.587941  0.591877\n",
        "  0.595913  0.597369  0.601421  0.604174  0.606058  0.607571  0.610202\n",
        "  0.615203  0.615921  0.618278  0.622169  0.6289    0.630002  0.635037\n",
        "  0.637057  0.640653  0.641666  0.64561   0.651088  0.652813  0.654096\n",
        "  0.655782  0.658326  0.665284  0.666107  0.667826  0.668466  0.673309\n",
        "  0.678198  0.680445  0.682506  0.684463  0.687291  0.690499  0.692212\n",
        "  0.698357  0.705006  0.706652  0.707737  0.709367  0.711528  0.714644\n",
        "  0.719967  0.724851  0.727537  0.728766  0.732665  0.735147  0.736769\n",
        "  0.739389  0.742248  0.743872  0.74539   0.747217  0.754212  0.756749\n",
        "  0.759052  0.761465  0.762875  0.767383  0.769741  0.774556  0.77608\n",
        "  0.782125  0.783367  0.788168  0.790077  0.791032  0.791925  0.793092\n",
        "  0.796734  0.798688  0.802788  0.805915  0.808575  0.811579  0.813444\n",
        "  0.814908  0.818579  0.819649  0.820406  0.822117  0.825239  0.826047\n",
        "  0.827495  0.829011]\n"
       ]
      }
     ],
     "prompt_number": 17
    },
    {
     "cell_type": "heading",
     "level": 3,
     "metadata": {},
     "source": [
      "Plotting the tagging results"
     ]
    },
    {
     "cell_type": "code",
     "collapsed": false,
     "input": [
      "itera = 0\n",
      "for i in range(1,6): # There are 5 done pt cuts: 50, 100, 150, 200 and 250\n",
      "    pt_cut = i*50\n",
      "    pt_uni = fmod(pt_cut,10)\n",
      "    pt_dec = fmod(pt_cut-pt_uni,100)/10\n",
      "    pt_cen = fmod(pt_cut-pt_uni-pt_dec*10,1000)/100\n",
      "\n",
      "    comb = '_' + str(combination[0]) + '_' + str(combination[1]) + '_' + str(combination[2])\n",
      "\n",
      "    hold\n",
      "    fig_comp = figure(figsize=(6,5))\n",
      "    if ((ISR_or_not == 'WI') or (ISR_or_not == 'bb')):\n",
      "        plot(k_values,tags[itera,:])\n",
      "    plot(k_values,missTags[itera,:],'r')\n",
      "    axis([1.0,3.0,0,1])\n",
      "    xlabel('$k\\ (P_{cut}=k/N_j)$',fontsize=16)\n",
      "    ylabel('$[\\%]$',fontsize=16)\n",
      "    string = '$Sample\\ with\\ pt\\ >\\ ' + str(pt_cut) + '\\ GeV\\ -\\ Case:\\ ' + analysis + '\\n$Variables:\\ $' + variables[combination[0]] + ' - ' + variables[combination[1]] + ' - ' + variables[combination[2]]\n",
      "    title(string,fontsize=16);\n",
      "    legend([\"Tags\", \"MissTags\"],loc=7)\n",
      "    nameFig = '../../Results/plots_tagging_variables_comparison/' + local_folder + 'Percentages' + Tops_o_sTops + 'Tops_' + ISR_or_not + '_hpt-' + str(pt_cen) + str(pt_dec) + str(pt_uni) + comb + '.jpg'\n",
      "    savefig(nameFig,dpi=200)\n",
      "    itera += 1\n",
      "    \n",
      "    if (itera == 1):\n",
      "        show()\n",
      "    \n",
      "    close(fig_comp)"
     ],
     "language": "python",
     "metadata": {},
     "outputs": [
      {
       "metadata": {},
       "output_type": "display_data",
       "png": "[encoded data removed]",
       "text": [
        "<matplotlib.figure.Figure at 0x7f8242f76f90>"
       ]
      }
     ],
     "prompt_number": 18
    },
    {
     "cell_type": "code",
     "collapsed": false,
     "input": [],
     "language": "python",
     "metadata": {},
     "outputs": [],
     "prompt_number": 6
    },
    {
     "cell_type": "code",
     "collapsed": false,
     "input": [],
     "language": "python",
     "metadata": {},
     "outputs": []
    }
   ],
   "metadata": {}
  }
 ]
}